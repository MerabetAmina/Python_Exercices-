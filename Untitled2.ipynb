{
  "nbformat": 4,
  "nbformat_minor": 0,
  "metadata": {
    "colab": {
      "name": "Untitled2.ipynb",
      "provenance": []
    },
    "kernelspec": {
      "name": "python3",
      "display_name": "Python 3"
    },
    "language_info": {
      "name": "python"
    }
  },
  "cells": [
    {
      "cell_type": "code",
      "execution_count": 1,
      "metadata": {
        "colab": {
          "base_uri": "https://localhost:8080/"
        },
        "id": "fkMuuUll_xOB",
        "outputId": "a7ecf5ab-e9da-492e-d3c2-ac4c7ab07f5b"
      },
      "outputs": [
        {
          "output_type": "stream",
          "name": "stdout",
          "text": [
            "Hellooo !\n"
          ]
        }
      ],
      "source": [
        "print(\"Hellooo !\")"
      ]
    },
    {
      "cell_type": "markdown",
      "source": [
        "Write a program that will find all numbers which are divisible by 7 but are not a multiple of 5, between 2000 and 3200 (both included). The numbers obtained should be printed in a list\n"
      ],
      "metadata": {
        "id": "9bKNjT2c_yeZ"
      }
    },
    {
      "cell_type": "code",
      "source": [
        "L=[]\n",
        "for i in range(2000,3200,1):\n",
        "  if (i%7==0):\n",
        "    L.append(i)\n",
        "print(L)"
      ],
      "metadata": {
        "id": "V2IXx2eS_y1x"
      },
      "execution_count": null,
      "outputs": []
    },
    {
      "cell_type": "markdown",
      "source": [
        "\n",
        "\n",
        "Write a program that can compute the factorial of a given number. (The factorial of n is the product of all positive integers less than or equal to n.) For example: For factorial(5)= 5 x 4 x 3 x 2 x 1 the result is 120 (i.e. factorial (0)=1).\n"
      ],
      "metadata": {
        "id": "Nt-0tbC4_zGh"
      }
    },
    {
      "cell_type": "code",
      "source": [
        "def factorial(n):\n",
        "  if (n==1 or n==0):\n",
        "    return(1)\n",
        "  else:\n",
        "    return(n*factorial(n-1))  \n",
        "\n",
        "\n",
        " \n",
        "num=int(input(\"Enter your nb: \"))\n",
        "\n",
        "if num < 0:\n",
        "   print(\"Sorry, factorial does not exist for negative numbers\")\n",
        "elif num == 0:\n",
        "   print(\"The factorial of 0 is 1\")\n",
        "else:\n",
        "   print(\"The factorial of\", num, \"is\",factorial(num))"
      ],
      "metadata": {
        "colab": {
          "base_uri": "https://localhost:8080/"
        },
        "id": "PTwySoj-_zpS",
        "outputId": "0d0d2223-c0d3-4048-a201-9db4bcc15793"
      },
      "execution_count": null,
      "outputs": [
        {
          "output_type": "stream",
          "name": "stdout",
          "text": [
            "Enter your nb: 7\n",
            "The factorial of 7 is 5040\n"
          ]
        }
      ]
    },
    {
      "cell_type": "markdown",
      "source": [
        "With a given integer number n, write a program to generate a dictionary that contains (i, i*i) such that is an integral number between 1 and n (both included). Then, the program should print the dictionary. Suppose the following input is supplied to the program: 8 Then, the output should be: {1: 1, 2: 4, 3: 9, 4: 16, 5: 25, 6: 36, 7: 49, 8: 64} "
      ],
      "metadata": {
        "id": "nlWhK17SA6Gl"
      }
    },
    {
      "cell_type": "code",
      "source": [
        "dic={}\n",
        "for i in range(1,9,1):\n",
        "  key=str(i)\n",
        "  value=i*i\n",
        "  dic[key]=value\n",
        "\n",
        "print(dic)"
      ],
      "metadata": {
        "colab": {
          "base_uri": "https://localhost:8080/"
        },
        "id": "VCCJW6RwA6cz",
        "outputId": "82c544ed-d42b-4fcf-9dcb-4d4935ab4ead"
      },
      "execution_count": null,
      "outputs": [
        {
          "output_type": "stream",
          "name": "stdout",
          "text": [
            "{'1': 1, '2': 4, '3': 9, '4': 16, '5': 25, '6': 36, '7': 49, '8': 64}\n"
          ]
        }
      ]
    },
    {
      "cell_type": "markdown",
      "source": [
        "Given a non-empty string and an integral n, return a new string where the char at index n has been removed. The value of n will be a valid index of a char in the original string (i.e. n will be in the range 0..len(str)-1 inclusive).\n",
        "\n",
        "missing_char('kitten', 1) → 'ktten' for example here we remove \"i\" which is located in the index 1\n",
        "\n",
        "missing_char('kitten', 0) → 'itten' here we remove \"k\" which is in the index 0\n",
        "\n",
        "missing_char('kitten', 4) → 'kittn' here we remove \"e\" which is in the index 4\n"
      ],
      "metadata": {
        "id": "-Tsd7dMrBF2I"
      }
    },
    {
      "cell_type": "code",
      "source": [
        "\n",
        "def missing_char(str, n):\n",
        "  l=list(str)\n",
        "  l.pop(n)\n",
        "  res=\"\".join(l)\n",
        "  return res \n",
        "\n",
        "a=input(\"give us a no-empty String  :\")\n",
        "b=int(input(\"give the index char where it will be removed : \"))\n",
        "print(\"the result is \", missing_char(a,b))\n",
        "\n"
      ],
      "metadata": {
        "id": "VHR5_C6sBGC4",
        "colab": {
          "base_uri": "https://localhost:8080/"
        },
        "outputId": "77665629-5cec-41dd-f501-8c86a6680dad"
      },
      "execution_count": null,
      "outputs": [
        {
          "output_type": "stream",
          "name": "stdout",
          "text": [
            "give us a no-empty String  :GOMYCODE\n",
            "give the index char where it will be removed : 3\n",
            "the result is  GOMCODE\n"
          ]
        }
      ]
    },
    {
      "cell_type": "markdown",
      "source": [
        "Write a NumPy program to convert a NumPy array into a Python list structure.\n",
        "\n",
        "Expected output: \n",
        "\n",
        "Original array elements: [[0 1] [2 3] [4 5]] \n",
        "\n",
        "Array to list: [[0, 1], [2, 3], [4, 5]] "
      ],
      "metadata": {
        "id": "Y8lYWfluBeEz"
      }
    },
    {
      "cell_type": "code",
      "source": [
        "import numpy as np\n",
        "Original_array=np.array([[0,1],[2,3],[4,5]])\n",
        "array_tolist= Original_array.tolist()\n",
        "print(array_tolist)"
      ],
      "metadata": {
        "colab": {
          "base_uri": "https://localhost:8080/"
        },
        "id": "eCUErtrnBhjw",
        "outputId": "a645aefe-73f8-4c69-b4a2-ecfb4becef8d"
      },
      "execution_count": null,
      "outputs": [
        {
          "output_type": "stream",
          "name": "stdout",
          "text": [
            "[[0, 1], [2, 3], [4, 5]]\n"
          ]
        }
      ]
    },
    {
      "cell_type": "markdown",
      "source": [
        "Write a NumPy program to compute the covariance matrix of two given arrays. \n",
        "\n",
        "Original array1: [0 1 2] \n",
        "\n",
        "Original array2: [2 1 0] \n",
        "\n",
        "Covariance matrix of the said arrays: [[ 1. -1.] [-1. 1.]]\n",
        " "
      ],
      "metadata": {
        "id": "vtiWin0WCcJF"
      }
    },
    {
      "cell_type": "code",
      "source": [
        "import numpy as np\n",
        "x = np.array([[0, 2], [1, 1], [2, 0]]).T\n",
        "print(x)\n",
        "print(np.cov(x))\n"
      ],
      "metadata": {
        "colab": {
          "base_uri": "https://localhost:8080/"
        },
        "id": "gUMS0s3pCbVx",
        "outputId": "4fd27df2-6a45-4acc-dd84-c25a497411f9"
      },
      "execution_count": null,
      "outputs": [
        {
          "output_type": "stream",
          "name": "stdout",
          "text": [
            "[[0 1 2]\n",
            " [2 1 0]]\n",
            "[[ 1. -1.]\n",
            " [-1.  1.]]\n"
          ]
        }
      ]
    },
    {
      "cell_type": "markdown",
      "source": [
        "Write a program that calculates and prints the value according to the given formula: Q= Square root of [(2 * C * D)/H] \n",
        "\n",
        "The following are the fixed values of C and H: C is 50. H is 30. \n",
        "\n",
        "D is the variable whose values should be input into your program in a comma-separated sequence. (That means D contains more than value)\n",
        "\n",
        "Example: Let's assume the following comma-separated input sequence is given to the program: 100,150,180 The output of the program should be 18,22,24 \n",
        "\n",
        "To further explain this, we will obtain a result for each value of D:  Q1= Square root of [(2 * C * 100)/H] =18, Q2= Square root of [(2 * C * 150)/H] = 22 and Q3 = Square root of [(2 * C * 180)/H]  = 24\n",
        "\n",
        "Hint: If the output received is in decimal form, it should be rounded off to its nearest value. For example, if the output received is 26.0, it should be printed as 26. In case of input data being supplied to the question, it should be assumed to be a console input"
      ],
      "metadata": {
        "id": "Hr2qbmGZDK6s"
      }
    },
    {
      "cell_type": "code",
      "source": [
        "import math as mt\n",
        "c=50\n",
        "h=30\n",
        "r=[]\n",
        "d=input(\"entrer plusieurs nombres separé par une virgule : \")\n",
        "d=d.split(\",\")\n",
        "print(d)\n",
        "for i in d :\n",
        "    q=round(mt.sqrt(2*c*int(i)/h))\n",
        "    r.append(q)\n",
        "print(r)\n"
      ],
      "metadata": {
        "id": "Q2dSbLgADSYF",
        "colab": {
          "base_uri": "https://localhost:8080/"
        },
        "outputId": "7ef8a2f7-c8a4-4b1d-8ea1-4c6c4f87b3c3"
      },
      "execution_count": 3,
      "outputs": [
        {
          "output_type": "stream",
          "name": "stdout",
          "text": [
            "entrer plusieurs nombres separé par une virgule : 52,85,99,785\n",
            "['52', '85', '99', '785']\n",
            "[13, 17, 18, 51]\n"
          ]
        }
      ]
    },
    {
      "cell_type": "markdown",
      "source": [
        ""
      ],
      "metadata": {
        "id": "yUqzXuOpCbF_"
      }
    }
  ]
}